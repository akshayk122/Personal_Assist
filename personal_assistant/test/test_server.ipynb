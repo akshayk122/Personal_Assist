{
 "cells": [
  {
   "cell_type": "code",
   "execution_count": 23,
   "metadata": {},
   "outputs": [],
   "source": [
    "from acp_sdk.client import Client\n",
    "from colorama import Fore\n",
    "import asyncio\n",
    "import nest_asyncio\n",
    "\n",
    "# Apply nest_asyncio to allow running async code in Jupyter\n",
    "nest_asyncio.apply()\n",
    "\n",
    "async def test_expense_server():\n",
    "    # Connect to the expense server running on port 8200\n",
    "    async with Client(base_url=\"http://localhost:8200\") as client:\n",
    "        try:\n",
    "            # Test 1: Add an expense\n",
    "            add_expense = await client.run_sync(\n",
    "                agent=\"expense_tracker\",  # Using expense_tracker as the agent name\n",
    "                input=\"Add an expense of $100 for dinner at 5th Element\"\n",
    "            )\n",
    "            print(Fore.GREEN + \"Adding expense:\" + Fore.RESET)\n",
    "            print(add_expense.output[0].parts[0].content)\n",
    "            print(\"\\n\")\n",
    "\n",
    "            # Test 2: List all expenses\n",
    "            list_expenses = await client.run_sync(\n",
    "                agent=\"expense_tracker\",\n",
    "                input=\"Show all my expenses\"\n",
    "            )\n",
    "            print(Fore.BLUE + \"Listing all expenses:\" + Fore.RESET)\n",
    "            print(list_expenses.output[0].parts[0].content)\n",
    "            print(\"\\n\")\n",
    "\n",
    "            # Test 3: Get category summary\n",
    "            category_summary = await client.run_sync(\n",
    "                agent=\"expense_tracker\",\n",
    "                input=\"Show me expenses by category\"\n",
    "            )\n",
    "            print(Fore.YELLOW + \"Category Summary:\" + Fore.RESET)\n",
    "            print(category_summary.output[0].parts[0].content)\n",
    "        except Exception as e:\n",
    "            print(Fore.RED + f\"Error: {str(e)}\" + Fore.RESET)"
   ]
  },
  {
   "cell_type": "code",
   "execution_count": 24,
   "metadata": {},
   "outputs": [
    {
     "name": "stdout",
     "output_type": "stream",
     "text": [
      "\u001b[32mAdding expense:\u001b[39m\n",
      ".\n",
      "\n",
      "\n",
      "\n",
      "\u001b[34mListing all expenses:\u001b[39m\n",
      "Here's a list of all your expenses:\n",
      "\n",
      "$100.00 - Dinner at 5th Element\n",
      "Date: 2025-07-26\n",
      "Category: Food\n",
      "Payment: Credit\n",
      "ID: 8b626596-3805-4b85-91ab-76ca11dc2da2\n",
      "\n",
      "$100.00 - Dinner at 5th Element\n",
      "Date: 2025-07-22\n",
      "Category: Food\n",
      "Payment: Credit\n",
      "ID: 036b40fd-f7d6-4920-bcc6-141995021659\n",
      "\n",
      "$100.00 - Dinner at 5th Element\n",
      "Date: 2025-07-21\n",
      "Category: Food\n",
      "Payment: Credit\n",
      "ID: 466f1f56-a39e-4db3-8862-c5cbf03d5a7b\n",
      "\n",
      "$100.00 - TV at Amazon\n",
      "Date: 2025-07-20\n",
      "Category: Electronics\n",
      "Payment: Credit Card\n",
      "ID: 6448432e-4293-4806-a62a-59ef6972186b\n",
      "\n",
      "Total: $400.00\n",
      "\n",
      "\n",
      "\u001b[33mCategory Summary:\u001b[39m\n",
      "\u001b[31mError: list index out of range\u001b[39m\n"
     ]
    }
   ],
   "source": [
    "\n",
    "await test_expense_server()"
   ]
  },
  {
   "cell_type": "code",
   "execution_count": 1,
   "metadata": {},
   "outputs": [],
   "source": [
    "from acp_sdk.client import Client\n",
    "from colorama import Fore\n",
    "import asyncio\n",
    "import nest_asyncio\n",
    "\n",
    "# Apply nest_asyncio to allow running async code in Jupyter\n",
    "nest_asyncio.apply()\n",
    "\n",
    "async def test_expense_listing():\n",
    "    # Connect to the orchestrator server running on port 8300\n",
    "    async with Client(base_url=\"http://localhost:8300\") as client:\n",
    "        try:         \n",
    "            # Test 1: List recent exp\n",
    "            food_expenses = await client.run_sync(\n",
    "                agent=\"personal_assistant\",  # Using the orchestrator's agent name\n",
    "                input=\"show my expenses\",\n",
    "                 context={\"user_id\": \"Akshay12\"}\n",
    "            )\n",
    "            print(Fore.GREEN + \"Food Expenses:\" + Fore.RESET)\n",
    "            print(food_expenses.output[0].parts[0].content)\n",
    "            print(\"\\n\")\n",
    "\n",
    "        except Exception as e:\n",
    "            print(Fore.RED + f\"Error: {str(e)}\" + Fore.RESET)"
   ]
  },
  {
   "cell_type": "code",
   "execution_count": 23,
   "metadata": {},
   "outputs": [],
   "source": [
    "from acp_sdk.client import Client\n",
    "from colorama import Fore\n",
    "import asyncio\n",
    "import nest_asyncio\n",
    "from acp_sdk.models import Message, MessagePart\n",
    "\n",
    "# Apply nest_asyncio to allow running async code in Jupyter\n",
    "nest_asyncio.apply()\n",
    "\n",
    "async def test_expense_listing1():\n",
    "    # Connect to the orchestrator server running on port 8300\n",
    "    async with Client(base_url=\"http://localhost:8300\") as client:\n",
    "        try:         \n",
    "            # Test 1: List recent exp\n",
    "            food_expenses = await client.run_sync(\n",
    "                agent=\"personal_assistant\",  # Using the orchestrator's agent name\n",
    "                input=[\n",
    "                Message(parts=[MessagePart(content=\"list my expenses\", content_type=\"text/plain\")]),\n",
    "                Message(parts=[MessagePart(content=\"Akshay456\", content_type=\"text/plain\")])\n",
    "               ]\n",
    "            )\n",
    "            print(Fore.GREEN + \"Food Expenses:\" + Fore.RESET)\n",
    "            print(food_expenses.output[0].parts[0].content)\n",
    "            print(\"\\n\")\n",
    "\n",
    "        except Exception as e:\n",
    "            print(Fore.RED + f\"Error: {str(e)}\" + Fore.RESET)"
   ]
  },
  {
   "cell_type": "code",
   "execution_count": 24,
   "metadata": {},
   "outputs": [
    {
     "name": "stdout",
     "output_type": "stream",
     "text": [
      "\u001b[32mFood Expenses:\u001b[39m\n",
      "Okay, Akshay456, here's a list of your expenses:\n",
      "\n",
      "💰 Found 1 expense(s) for user: Akshay456 | Total: $29.00\n",
      "\n",
      "$29.00 - lunch\n",
      "Date: 2025-08-19\n",
      "Category: Food\n",
      "Payment: Credit\n",
      "ID: 0169bf9b-5c4d-41dd-ab79-1403d6f718ee\n",
      "\n",
      "\n"
     ]
    }
   ],
   "source": [
    "await test_expense_listing1()"
   ]
  },
  {
   "cell_type": "code",
   "execution_count": null,
   "metadata": {},
   "outputs": [],
   "source": [
    "curl -X POST \"http://localhost:8400/query\" \\\n",
    "     -H \"Content-Type: application/json\" \\\n",
    "     -d '{\"query\": \"Show my expenses\", \"user_id\": \"Akshay122\"}'"
   ]
  },
  {
   "cell_type": "code",
   "execution_count": null,
   "metadata": {},
   "outputs": [
    {
     "name": "stdout",
     "output_type": "stream",
     "text": [
      "✅ Success!\n",
      "Response:\n",
      " Yes, I am currently working. I am ready to respond to your prompts and questions. What can I help you with today?\n",
      "\n"
     ]
    }
   ],
   "source": [
    "import os\n",
    "import google.generativeai as genai\n",
    "\n",
    "# Set your API key directly here or through an .env\n",
    "os.environ[\"GEMINI_API_KEY\"] = \"API_KEY\"  # Replace this!\n",
    "\n",
    "# Configure the API\n",
    "genai.configure(api_key=os.environ[\"GEMINI_API_KEY\"])\n",
    "\n",
    "# Create the model\n",
    "model = genai.GenerativeModel(\"gemini-2.0-flash\")\n",
    "\n",
    "# Try a simple prompt\n",
    "try:\n",
    "    response = model.generate_content(\"Hello Gemini, are you working?\")\n",
    "    print(\"Success!\")\n",
    "    print(\"Response:\\n\", response.text)\n",
    "except Exception as e:\n",
    "    print(\"Error:\", e)\n"
   ]
  }
 ],
 "metadata": {
  "kernelspec": {
   "display_name": "Python 3",
   "language": "python",
   "name": "python3"
  },
  "language_info": {
   "codemirror_mode": {
    "name": "ipython",
    "version": 3
   },
   "file_extension": ".py",
   "mimetype": "text/x-python",
   "name": "python",
   "nbconvert_exporter": "python",
   "pygments_lexer": "ipython3",
   "version": "3.11.6"
  }
 },
 "nbformat": 4,
 "nbformat_minor": 2
}
